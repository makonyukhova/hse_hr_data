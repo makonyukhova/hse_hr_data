{
 "cells": [
  {
   "cell_type": "markdown",
   "id": "3d5db484-3329-4c6a-8a06-21fb44e9680a",
   "metadata": {},
   "source": [
    "# SQLite и Pandas"
   ]
  },
  {
   "cell_type": "code",
   "execution_count": 2,
   "id": "3120c4ff-19c3-47be-a23a-032f86eb7f8d",
   "metadata": {},
   "outputs": [],
   "source": [
    "import sqlite3\n",
    "import pandas as pd"
   ]
  },
  {
   "cell_type": "code",
   "execution_count": 3,
   "id": "5f15e73e-6ed1-4389-a5b6-8f66c87bbbf6",
   "metadata": {},
   "outputs": [],
   "source": [
    "# Создаем коннектор к файлу нашей базы данных\n",
    "con = sqlite3.connect('DBname.db')"
   ]
  },
  {
   "cell_type": "code",
   "execution_count": 4,
   "id": "fd1a2990-47ea-47c0-a67f-d69921739142",
   "metadata": {},
   "outputs": [],
   "source": [
    "cur = con.cursor()"
   ]
  },
  {
   "cell_type": "code",
   "execution_count": 6,
   "id": "2ee3ea6f-1184-48b0-8545-fc864e09c54c",
   "metadata": {},
   "outputs": [
    {
     "data": {
      "text/plain": [
       "[('Маша', 5, '2020-01-01'),\n",
       " ('Петя', 4, '2020-01-01'),\n",
       " ('Вася', 3, '2020-01-01'),\n",
       " ('Саша', 4, '2020-01-01'),\n",
       " ('Маша', 4, '2020-01-02'),\n",
       " ('Петя', 4, '2020-01-02'),\n",
       " ('Вася', 4, '2020-01-02'),\n",
       " ('Саша', 5, '2020-01-02'),\n",
       " ('Маша', 5, '2020-01-03'),\n",
       " ('Петя', 3, '2020-01-03'),\n",
       " ('Вася', 2, '2020-01-03'),\n",
       " ('Саша', 5, '2020-01-03'),\n",
       " ('Маша', 3, '2020-01-04'),\n",
       " ('Петя', 3, '2020-01-04'),\n",
       " ('Вася', 3, '2020-01-04'),\n",
       " ('Саша', 3, '2020-01-04'),\n",
       " ('Максим', 2, '2020-01-04'),\n",
       " ('Маша', 5, '2020-01-05'),\n",
       " ('Петя', 3, '2020-01-05'),\n",
       " ('Вася', 3, '2020-01-05'),\n",
       " ('Саша', 3, '2020-01-05')]"
      ]
     },
     "execution_count": 6,
     "metadata": {},
     "output_type": "execute_result"
    }
   ],
   "source": [
    "# Здесь Python передает предложение SELECT в СУБД (в данном случае это библиотечка sqlite3) и выполняет его, а возвращает набор данных из таблицы (результат работы SELECT)\n",
    "\n",
    "cur.execute('SELECT * FROM EmployeePoints').fetchall()"
   ]
  },
  {
   "cell_type": "markdown",
   "id": "73d96cb7-6e5d-438e-b259-ad9973d5c1be",
   "metadata": {},
   "source": [
    "## Pandas"
   ]
  },
  {
   "cell_type": "code",
   "execution_count": 7,
   "id": "c5416467-fa0d-4e9a-92aa-d14a851c61a2",
   "metadata": {},
   "outputs": [],
   "source": [
    "df = pd.read_sql(\"\"\"\n",
    "\n",
    "    SELECT DISTINCT (Employee) FROM EmployeePoints\n",
    "\n",
    "\"\"\", con)"
   ]
  },
  {
   "cell_type": "code",
   "execution_count": 8,
   "id": "9b642f0a-7ae0-4803-886f-ba5c3217735e",
   "metadata": {},
   "outputs": [
    {
     "data": {
      "text/html": [
       "<div>\n",
       "<style scoped>\n",
       "    .dataframe tbody tr th:only-of-type {\n",
       "        vertical-align: middle;\n",
       "    }\n",
       "\n",
       "    .dataframe tbody tr th {\n",
       "        vertical-align: top;\n",
       "    }\n",
       "\n",
       "    .dataframe thead th {\n",
       "        text-align: right;\n",
       "    }\n",
       "</style>\n",
       "<table border=\"1\" class=\"dataframe\">\n",
       "  <thead>\n",
       "    <tr style=\"text-align: right;\">\n",
       "      <th></th>\n",
       "      <th>Employee</th>\n",
       "    </tr>\n",
       "  </thead>\n",
       "  <tbody>\n",
       "    <tr>\n",
       "      <th>0</th>\n",
       "      <td>Маша</td>\n",
       "    </tr>\n",
       "    <tr>\n",
       "      <th>1</th>\n",
       "      <td>Петя</td>\n",
       "    </tr>\n",
       "    <tr>\n",
       "      <th>2</th>\n",
       "      <td>Вася</td>\n",
       "    </tr>\n",
       "    <tr>\n",
       "      <th>3</th>\n",
       "      <td>Саша</td>\n",
       "    </tr>\n",
       "    <tr>\n",
       "      <th>4</th>\n",
       "      <td>Максим</td>\n",
       "    </tr>\n",
       "  </tbody>\n",
       "</table>\n",
       "</div>"
      ],
      "text/plain": [
       "  Employee\n",
       "0     Маша\n",
       "1     Петя\n",
       "2     Вася\n",
       "3     Саша\n",
       "4   Максим"
      ]
     },
     "execution_count": 8,
     "metadata": {},
     "output_type": "execute_result"
    }
   ],
   "source": [
    "df"
   ]
  },
  {
   "cell_type": "code",
   "execution_count": 9,
   "id": "06f3b814-bb80-4202-a7e4-39965c592104",
   "metadata": {},
   "outputs": [],
   "source": [
    "df = pd.read_sql(\"\"\"\n",
    "\n",
    "    SELECT Employee, COUNT(Point) FROM EmployeePoints WHERE point = 5 GROUP BY Employee  ORDER BY point\n",
    "\n",
    "\"\"\", con)"
   ]
  },
  {
   "cell_type": "code",
   "execution_count": 10,
   "id": "ce34b3c3-bea2-482e-a8f5-0e76f82609ab",
   "metadata": {},
   "outputs": [
    {
     "data": {
      "text/html": [
       "<div>\n",
       "<style scoped>\n",
       "    .dataframe tbody tr th:only-of-type {\n",
       "        vertical-align: middle;\n",
       "    }\n",
       "\n",
       "    .dataframe tbody tr th {\n",
       "        vertical-align: top;\n",
       "    }\n",
       "\n",
       "    .dataframe thead th {\n",
       "        text-align: right;\n",
       "    }\n",
       "</style>\n",
       "<table border=\"1\" class=\"dataframe\">\n",
       "  <thead>\n",
       "    <tr style=\"text-align: right;\">\n",
       "      <th></th>\n",
       "      <th>Employee</th>\n",
       "      <th>COUNT(Point)</th>\n",
       "    </tr>\n",
       "  </thead>\n",
       "  <tbody>\n",
       "    <tr>\n",
       "      <th>0</th>\n",
       "      <td>Маша</td>\n",
       "      <td>3</td>\n",
       "    </tr>\n",
       "    <tr>\n",
       "      <th>1</th>\n",
       "      <td>Саша</td>\n",
       "      <td>2</td>\n",
       "    </tr>\n",
       "  </tbody>\n",
       "</table>\n",
       "</div>"
      ],
      "text/plain": [
       "  Employee  COUNT(Point)\n",
       "0     Маша             3\n",
       "1     Саша             2"
      ]
     },
     "execution_count": 10,
     "metadata": {},
     "output_type": "execute_result"
    }
   ],
   "source": [
    "df"
   ]
  }
 ],
 "metadata": {
  "kernelspec": {
   "display_name": "Python 3",
   "language": "python",
   "name": "python3"
  },
  "language_info": {
   "codemirror_mode": {
    "name": "ipython",
    "version": 3
   },
   "file_extension": ".py",
   "mimetype": "text/x-python",
   "name": "python",
   "nbconvert_exporter": "python",
   "pygments_lexer": "ipython3",
   "version": "3.8.8"
  }
 },
 "nbformat": 4,
 "nbformat_minor": 5
}
